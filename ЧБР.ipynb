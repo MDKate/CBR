{
  "nbformat": 4,
  "nbformat_minor": 0,
  "metadata": {
    "colab": {
      "provenance": [],
      "authorship_tag": "ABX9TyNspQyFrmiSRFH2gOcBvrNu",
      "include_colab_link": true
    },
    "kernelspec": {
      "name": "python3",
      "display_name": "Python 3"
    },
    "language_info": {
      "name": "python"
    }
  },
  "cells": [
    {
      "cell_type": "markdown",
      "metadata": {
        "id": "view-in-github",
        "colab_type": "text"
      },
      "source": [
        "<a href=\"https://colab.research.google.com/github/MDKate/CBR/blob/main/%D0%A7%D0%91%D0%A0.ipynb\" target=\"_parent\"><img src=\"https://colab.research.google.com/assets/colab-badge.svg\" alt=\"Open In Colab\"/></a>"
      ]
    },
    {
      "cell_type": "code",
      "execution_count": null,
      "metadata": {
        "id": "OCGwDCnCPe80"
      },
      "outputs": [],
      "source": [
        "import telebot\n",
        "import telegram\n",
        "from telebot import types\n",
        "from telebot.types import ReplyKeyboardMarkup, InlineKeyboardMarkup, InlineKeyboardButton\n",
        "import pandas as pd\n",
        "import numpy as np\n",
        "import emoji"
      ]
    },
    {
      "cell_type": "code",
      "source": [
        "bot = telebot.TeleBot('5958215181:AAFSaPDPJr9JFxtT3UWkO_WWFxTQMEQ2DE8')"
      ],
      "metadata": {
        "id": "vPw_N120Phbo"
      },
      "execution_count": null,
      "outputs": []
    },
    {
      "cell_type": "code",
      "source": [
        "#Авторизация\n",
        "\n",
        "\n",
        "\n",
        "# Обработка действий при старте бота\n",
        "@bot.message_handler(commands=['start'])\n",
        "def start_message(message):\n",
        "    # Считываем таблицу\n",
        "    base = pd.read_excel(\"C:/Users/50AdmNsk/PycharmProjects/Chat-bot-reservists/testBase.xlsx\")\n",
        "    del (base['Unnamed: 0'])\n",
        "    # Если пользователь уже регистрировался, то\n",
        "    if message.chat.id in base['ID'].unique():\n",
        "        bot.send_message(message.chat.id,\n",
        "                         \"Вы уже зарегистрированы! Для перерегистрации нажмите /reregistration\")\n",
        "    # Если пользователь регистрируется первый раз, то\n",
        "    else:\n",
        "        bot.send_message(message.chat.id, emoji.emojize(\n",
        "            \"Добрый день!:hand_with_fingers_splayed: Давайте начнем учиться! Для этого вы должны зарегистрироваться.\"))\n",
        "        bot.send_message(message.chat.id,\n",
        "                         emoji.emojize(\"Введите ваши фамилию, имя и отчество: :magnifying_glass_tilted_left:\"))\n",
        "\n",
        "\n",
        "# Обработка входящего текста\n",
        "@bot.message_handler(func=lambda message: ['test'])\n",
        "def start_message(message):\n",
        "    # Считываем таблицу\n",
        "    base = pd.read_excel(\"C:/Users/50AdmNsk/PycharmProjects/Chat-bot-reservists/testBase.xlsx\")\n",
        "    del (base['Unnamed: 0'])\n",
        "    # Если пользователь зарегистрировался и внес иформацию о своей группе, то\n",
        "    if message.chat.id in base['ID'].unique() and len(str(list(base[base['ID'] == message.chat.id]['Группа'])))-4 > 3:\n",
        "        bot.send_message(message.chat.id, emoji.emojize(\n",
        "                \"Увы! :weary_face: Извините! Я еще плохо умею общаться \t:woman_facepalming:\"))\n",
        "    # Если пользователь еще не зарегистрирован, то\n",
        "    else:\n",
        "        # Если пользователь ввел имя и группу, то\n",
        "        if len(str(base['Группа'][base.index[-1]])) == 3 and len(str(base['Участники курса'][base.index[-1]])) > 3:\n",
        "            # Дозаписываем данные и сохраняем таблицу\n",
        "            group = message.text\n",
        "            base['Группа'][base.index[-1]] = group\n",
        "            base.to_excel(\"C:/Users/50AdmNsk/PycharmProjects/Chat-bot-reservists/testBase.xlsx\")\n",
        "            bot.send_message(message.chat.id, 'Отлично! Давайте приступим к работе!' )\n",
        "            bot.send_message(message.chat.id, 'Для начала, необходимо ознакомиться с некоторыми правилами. \\n У вас есть несколько учебных блоков, '\n",
        "                                              'к каждому из которых есть обязательное задание. Блок состоит из обучающего видео, проверочного теста и домашнего задания. \\n '\n",
        "                                              'Выполняйте все задания в срок! \\n Иногда вам будут приходить напоминания, что пора приступить к работе и сообщения от преподавателя. Если вы захотите '\n",
        "                                              'перезагрузить домашнюю работу - воспользуйтесть тегом /jobreload. Если вы захотите оставить рефлексию - воспользуйтесь тегом /reflection. \\n'\n",
        "                                              'Желаю успешной учебы!')\n",
        "        # Если пользователь ввел имя, но не ввел группу, то\n",
        "        else:\n",
        "            # Дозаписываем данные и сохраняем таблицу\n",
        "            name = message.text\n",
        "            base = base.append({\"Участники курса\": name, \"ID\": message.chat.id}, ignore_index=True)\n",
        "            base.to_excel(\"C:/Users/50AdmNsk/PycharmProjects/Chat-bot-reservists/testBase.xlsx\")\n",
        "            # Создаем кнопки\n",
        "            markup = telebot.types.InlineKeyboardMarkup()\n",
        "            markup.add(telebot.types.InlineKeyboardButton(text='Преподаватель', callback_data='but1'))\n",
        "            markup.add(telebot.types.InlineKeyboardButton(text='Ученик', callback_data='but2'))\n",
        "            bot.send_message(message.chat.id, text=f\"Выберите вашу роль: \" , reply_markup=markup)\n",
        "\n",
        "\n",
        "# Обработка кнопок\n",
        "@bot.callback_query_handler(func=lambda call: True)\n",
        "def callback_query(call):\n",
        "    req = call.data.split('_')\n",
        "    # Если выбранная группа - ученик, то\n",
        "    if req[0] == 'but2':\n",
        "        bot.send_message(call.message.chat.id, 'Введите вашу группу:')\n",
        "    # Если выбранная группа - преподаватель, то\n",
        "    else:\n",
        "        # Считываем таблицу\n",
        "        base = pd.read_excel(\"C:/Users/50AdmNsk/PycharmProjects/Chat-bot-reservists/testBase.xlsx\")\n",
        "        base['Группа'][base.index[-1]] = 'Преподаватель'\n",
        "        del (base['Unnamed: 0'])\n",
        "        base.to_excel(\"C:/Users/50AdmNsk/PycharmProjects/Chat-bot-reservists/testBase.xlsx\")\n",
        "        bot.send_message(call.message.chat.id, 'Отлично! Давайте приступим к работе!')\n",
        "        bot.send_message(call.message.chat.id, 'По мере прохождения учебного блока, я буду писать вам о том, кто из учеников уже ознакомился с видео, кто и на какой балл прошел тест,'\n",
        "                                               'пересылать домашнее задание учеников. В любое время вы можете написать мне, и я передам сообщение всем ученикам персонально. '\n",
        "                                               'Для этого воспользуйтесь тегом /message Укажате номер группы, которой нужно отправить сообщение, и текст сообщения. \\n '\n",
        "                                               'Желаю плодотворной работы!')\n"
      ],
      "metadata": {
        "id": "UfvMgMEsPhdv"
      },
      "execution_count": null,
      "outputs": []
    },
    {
      "cell_type": "code",
      "source": [],
      "metadata": {
        "id": "DxOkAXrFPhnB"
      },
      "execution_count": null,
      "outputs": []
    },
    {
      "cell_type": "code",
      "source": [],
      "metadata": {
        "id": "V8bO5DLrPhpe"
      },
      "execution_count": null,
      "outputs": []
    },
    {
      "cell_type": "code",
      "source": [],
      "metadata": {
        "id": "F2AZhlMsPhsg"
      },
      "execution_count": null,
      "outputs": []
    },
    {
      "cell_type": "code",
      "source": [],
      "metadata": {
        "id": "CZa1xWbNPhvI"
      },
      "execution_count": null,
      "outputs": []
    },
    {
      "cell_type": "code",
      "source": [],
      "metadata": {
        "id": "zGD3By44Phxf"
      },
      "execution_count": null,
      "outputs": []
    },
    {
      "cell_type": "code",
      "source": [],
      "metadata": {
        "id": "CfUjxsuKPhzp"
      },
      "execution_count": null,
      "outputs": []
    },
    {
      "cell_type": "code",
      "source": [],
      "metadata": {
        "id": "2WqNRnKyPh1r"
      },
      "execution_count": null,
      "outputs": []
    },
    {
      "cell_type": "code",
      "source": [],
      "metadata": {
        "id": "WsZI0ZI9Ph32"
      },
      "execution_count": null,
      "outputs": []
    },
    {
      "cell_type": "code",
      "source": [],
      "metadata": {
        "id": "XGemHm6fPh6h"
      },
      "execution_count": null,
      "outputs": []
    },
    {
      "cell_type": "code",
      "source": [],
      "metadata": {
        "id": "x-Ax4cHyPh81"
      },
      "execution_count": null,
      "outputs": []
    },
    {
      "cell_type": "code",
      "source": [],
      "metadata": {
        "id": "1M4iuKu5Ph_K"
      },
      "execution_count": null,
      "outputs": []
    },
    {
      "cell_type": "code",
      "source": [],
      "metadata": {
        "id": "VP33q90NPiBe"
      },
      "execution_count": null,
      "outputs": []
    },
    {
      "cell_type": "code",
      "source": [],
      "metadata": {
        "id": "PwMDUmUcPiDx"
      },
      "execution_count": null,
      "outputs": []
    },
    {
      "cell_type": "code",
      "source": [],
      "metadata": {
        "id": "XvFAiLc3PiF_"
      },
      "execution_count": null,
      "outputs": []
    },
    {
      "cell_type": "code",
      "source": [
        "@bot.message_handler(commands=['start'])  # Начинаем работу\n",
        "\n",
        "def start(m):\n",
        "\n",
        "    global count\n",
        "    global page\n",
        "    markup = InlineKeyboardMarkup()  # Определяем кнопку\n",
        "    markup.add(InlineKeyboardButton(text=f'Начнем', callback_data=f'start'))\n",
        "    bot.send_message(m.from_user.id, emoji.emojize(\n",
        "        \"Добрый день!:hand_with_fingers_splayed: Давайте начнем учиться! :play_button:\"),\n",
        "                    reply_markup=markup)  # Выводим сопутствующее сообщение\n",
        "\n",
        "\n",
        "@bot.message_handler()  # Обрабатываем текстовые сообщения\n",
        "\n",
        "def start(m):\n",
        "    bot.send_message(m.from_user.id, emoji.emojize(\n",
        "        \"Увы! :weary_face: Извините! Я еще плохо умею общаться \t:woman_facepalming:\"))  # Выводим сопутствующее сообщение\n",
        "\n",
        "if __name__ == '__main__':\n",
        "\n",
        "    bot.polling(none_stop=True)\n"
      ],
      "metadata": {
        "id": "p1BqUU-qPiJX"
      },
      "execution_count": null,
      "outputs": []
    }
  ]
}