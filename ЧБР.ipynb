{
  "nbformat": 4,
  "nbformat_minor": 0,
  "metadata": {
    "colab": {
      "provenance": [],
      "authorship_tag": "ABX9TyPUyrUMcdmoz2eexTSXkxNv",
      "include_colab_link": true
    },
    "kernelspec": {
      "name": "python3",
      "display_name": "Python 3"
    },
    "language_info": {
      "name": "python"
    }
  },
  "cells": [
    {
      "cell_type": "markdown",
      "metadata": {
        "id": "view-in-github",
        "colab_type": "text"
      },
      "source": [
        "<a href=\"https://colab.research.google.com/github/MDKate/CBR/blob/main/%D0%A7%D0%91%D0%A0.ipynb\" target=\"_parent\"><img src=\"https://colab.research.google.com/assets/colab-badge.svg\" alt=\"Open In Colab\"/></a>"
      ]
    },
    {
      "cell_type": "code",
      "execution_count": null,
      "metadata": {
        "id": "OCGwDCnCPe80"
      },
      "outputs": [],
      "source": [
        "import telebot\n",
        "import telegram\n",
        "from telebot import types\n",
        "from telebot.types import ReplyKeyboardMarkup, InlineKeyboardMarkup, InlineKeyboardButton\n",
        "import pandas as pd\n",
        "import numpy as np\n",
        "import emoji"
      ]
    },
    {
      "cell_type": "code",
      "source": [
        "bot = telebot.TeleBot('5958215181:AAFSaPDPJr9JFxtT3UWkO_WWFxTQMEQ2DE8')"
      ],
      "metadata": {
        "id": "vPw_N120Phbo"
      },
      "execution_count": null,
      "outputs": []
    },
    {
      "cell_type": "code",
      "source": [],
      "metadata": {
        "id": "UfvMgMEsPhdv"
      },
      "execution_count": null,
      "outputs": []
    },
    {
      "cell_type": "code",
      "source": [],
      "metadata": {
        "id": "JZazGfpkPhgD"
      },
      "execution_count": null,
      "outputs": []
    },
    {
      "cell_type": "code",
      "source": [],
      "metadata": {
        "id": "UX2vzkN8PhiX"
      },
      "execution_count": null,
      "outputs": []
    },
    {
      "cell_type": "code",
      "source": [],
      "metadata": {
        "id": "-XJVs-rpPhku"
      },
      "execution_count": null,
      "outputs": []
    },
    {
      "cell_type": "code",
      "source": [],
      "metadata": {
        "id": "DxOkAXrFPhnB"
      },
      "execution_count": null,
      "outputs": []
    },
    {
      "cell_type": "code",
      "source": [],
      "metadata": {
        "id": "V8bO5DLrPhpe"
      },
      "execution_count": null,
      "outputs": []
    },
    {
      "cell_type": "code",
      "source": [],
      "metadata": {
        "id": "F2AZhlMsPhsg"
      },
      "execution_count": null,
      "outputs": []
    },
    {
      "cell_type": "code",
      "source": [],
      "metadata": {
        "id": "CZa1xWbNPhvI"
      },
      "execution_count": null,
      "outputs": []
    },
    {
      "cell_type": "code",
      "source": [],
      "metadata": {
        "id": "zGD3By44Phxf"
      },
      "execution_count": null,
      "outputs": []
    },
    {
      "cell_type": "code",
      "source": [],
      "metadata": {
        "id": "CfUjxsuKPhzp"
      },
      "execution_count": null,
      "outputs": []
    },
    {
      "cell_type": "code",
      "source": [],
      "metadata": {
        "id": "2WqNRnKyPh1r"
      },
      "execution_count": null,
      "outputs": []
    },
    {
      "cell_type": "code",
      "source": [],
      "metadata": {
        "id": "WsZI0ZI9Ph32"
      },
      "execution_count": null,
      "outputs": []
    },
    {
      "cell_type": "code",
      "source": [],
      "metadata": {
        "id": "XGemHm6fPh6h"
      },
      "execution_count": null,
      "outputs": []
    },
    {
      "cell_type": "code",
      "source": [],
      "metadata": {
        "id": "x-Ax4cHyPh81"
      },
      "execution_count": null,
      "outputs": []
    },
    {
      "cell_type": "code",
      "source": [],
      "metadata": {
        "id": "1M4iuKu5Ph_K"
      },
      "execution_count": null,
      "outputs": []
    },
    {
      "cell_type": "code",
      "source": [],
      "metadata": {
        "id": "VP33q90NPiBe"
      },
      "execution_count": null,
      "outputs": []
    },
    {
      "cell_type": "code",
      "source": [],
      "metadata": {
        "id": "PwMDUmUcPiDx"
      },
      "execution_count": null,
      "outputs": []
    },
    {
      "cell_type": "code",
      "source": [],
      "metadata": {
        "id": "XvFAiLc3PiF_"
      },
      "execution_count": null,
      "outputs": []
    },
    {
      "cell_type": "code",
      "source": [
        "@bot.message_handler(commands=['start'])  # Начинаем работу\n",
        "\n",
        "def start(m):\n",
        "\n",
        "    global count\n",
        "    global page\n",
        "    markup = InlineKeyboardMarkup()  # Определяем кнопку\n",
        "    markup.add(InlineKeyboardButton(text=f'Начнем', callback_data=f'start'))\n",
        "    bot.send_message(m.from_user.id, emoji.emojize(\n",
        "        \"Добрый день!:hand_with_fingers_splayed: Давайте начнем учиться! :play_button:\"),\n",
        "                    reply_markup=markup)  # Выводим сопутствующее сообщение\n",
        "\n",
        "\n",
        "@bot.message_handler()  # Обрабатываем текстовые сообщения\n",
        "\n",
        "def start(m):\n",
        "    bot.send_message(m.from_user.id, emoji.emojize(\n",
        "        \"Увы! :weary_face: Извините! Я еще плохо умею общаться \t:woman_facepalming:\"))  # Выводим сопутствующее сообщение\n",
        "\n",
        "if __name__ == '__main__':\n",
        "\n",
        "    bot.polling(none_stop=True)\n"
      ],
      "metadata": {
        "id": "p1BqUU-qPiJX"
      },
      "execution_count": null,
      "outputs": []
    }
  ]
}