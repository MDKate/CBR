{
  "nbformat": 4,
  "nbformat_minor": 0,
  "metadata": {
    "colab": {
      "provenance": [],
      "authorship_tag": "ABX9TyP5luvqaKBHdykWSZmB7und",
      "include_colab_link": true
    },
    "kernelspec": {
      "name": "python3",
      "display_name": "Python 3"
    },
    "language_info": {
      "name": "python"
    }
  },
  "cells": [
    {
      "cell_type": "markdown",
      "metadata": {
        "id": "view-in-github",
        "colab_type": "text"
      },
      "source": [
        "<a href=\"https://colab.research.google.com/github/MDKate/CBR/blob/main/%D0%A7%D0%91%D0%A0.ipynb\" target=\"_parent\"><img src=\"https://colab.research.google.com/assets/colab-badge.svg\" alt=\"Open In Colab\"/></a>"
      ]
    },
    {
      "cell_type": "code",
      "execution_count": null,
      "metadata": {
        "id": "OCGwDCnCPe80"
      },
      "outputs": [],
      "source": [
        "import telebot\n",
        "import telegram\n",
        "from telebot import types\n",
        "from telebot.types import ReplyKeyboardMarkup, InlineKeyboardMarkup, InlineKeyboardButton\n",
        "import pandas as pd\n",
        "import numpy as np\n",
        "import emoji\n",
        "import telebot\n",
        "from time import sleep\n",
        "from multiprocessing.context import Process\n",
        "from datetime import timedelta\n",
        "import schedule\n",
        "from pathlib import Path\n",
        "from telegram import ParseMode\n",
        "import datetime\n",
        "from datetime import datetime\n",
        "\n",
        "from emoji import emojize"
      ]
    },
    {
      "cell_type": "code",
      "source": [
        "\n",
        "# Подключаемся к боту\n",
        "bot = telebot.TeleBot('5958215181:AAFSaPDPJr9JFxtT3UWkO_WWFxTQMEQ2DE8')\n",
        "\n",
        "\n",
        "\n",
        "\n",
        "# --------------------------------------------Отправка видео по дате------------------------------------------------------\n",
        "# ------------------------------------------------------------------------------------------------------------------------\n",
        "# ------------------------------------------------------------------------------------------------------------------------\n",
        "# ------------------------------------------------------------------------------------------------------------------------\n",
        "# Создаем обработчик, который отправляет видео в заданное время\n",
        "def job():\n",
        "    # Подгружаем базу\n",
        "    base = pd.read_excel(\"C:/Users/50AdmNsk/PycharmProjects/Chat-bot-reservists/testBase.xlsx\")\n",
        "    del (base['Unnamed: 0'])\n",
        "    # Работа по отправке видео. Если текущая дата совпадает с датой из таблицы, то\n",
        "    if datetime.today().strftime('%Y-%m-%d %H:%M') == base['Дата'][1]:\n",
        "        # Перебираем всех НЕ преподавателей и отправляем им видео\n",
        "        for i in range(1, len(base)):\n",
        "            if base['Участники курса'][i] != 'Преподаватель':\n",
        "                bot.send_message(int(base['ID'][i]), f'Посмотрите видео и пройдите тест. \\n {base[\"Видео\"][1]}', parse_mode=ParseMode.HTML)\n",
        "    # Работа по отправке теста. Определяем время отправки теста, с учетом длительности видео\n",
        "    mint = datetime.strptime(str(base['Дата'][1]), '%Y-%m-%d %H:%M')+ timedelta(minutes=int(base['Продолжительность (мин)'][1]))\n",
        "    # Если текущие дата, время совпадает с расчетной отправкой теста, то\n",
        "    if datetime.today().strftime('%Y-%m-%d %H:%M') == mint.strftime('%Y-%m-%d %H:%M'):\n",
        "        # Перебираем всех НЕ преподавателей и высылаем кнопку на прохождение теста\n",
        "        for i in range(1, len(base)):\n",
        "            if base['Участники курса'][i] != 'Преподаватель':\n",
        "                markup = telebot.types.InlineKeyboardMarkup()\n",
        "                markup.add(telebot.types.InlineKeyboardButton(text='Пройти тест', callback_data='testr'))\n",
        "                bot.send_message(int(base['ID'][i]), text=f\"Для начала тестирования нажмите на кнопку: \", reply_markup=markup)\n",
        "    base=\"\"\n",
        "\n",
        "# Контроллер, который выполняет работу каждую минуту\n",
        "schedule.every(1).minutes.do(job)\n",
        "\n",
        "# Выделение потока под контроллер\n",
        "class ScheduleMessage():\n",
        "    def try_send_schedule():\n",
        "        while True:\n",
        "            schedule.run_pending()\n",
        "            sleep(1)\n",
        "    def start_process():\n",
        "        p1 = Process(target=ScheduleMessage.try_send_schedule, args=())\n",
        "        p1.start()\n",
        "\n",
        "# ------------------------------------------------------------------------------------------------------------------------\n",
        "# ------------------------------------------------------------------------------------------------------------------------\n",
        "# ------------------------------------------------------------------------------------------------------------------------\n",
        "\n",
        "\n",
        "\n",
        "# Обработка действий при старте бота\n",
        "@bot.message_handler(commands=['start'])\n",
        "def start_message(message):\n",
        "    # Считываем таблицу\n",
        "    base = pd.read_excel(\"C:/Users/50AdmNsk/PycharmProjects/Chat-bot-reservists/testBase.xlsx\")\n",
        "    del (base['Unnamed: 0'])\n",
        "    # Если пользователь уже регистрировался, то\n",
        "    if message.chat.id in base['ID'].unique():\n",
        "        bot.send_message(message.chat.id,\n",
        "                         \"Вы уже зарегистрированы! Для перерегистрации нажмите /reregistration\")\n",
        "    # Если пользователь регистрируется первый раз, то\n",
        "    else:\n",
        "        bot.send_message(message.chat.id, emoji.emojize(\n",
        "            \"Добрый день!:hand_with_fingers_splayed: Давайте начнем учиться! Для этого вы должны зарегистрироваться.\"))\n",
        "        bot.send_message(message.chat.id,\n",
        "                         emoji.emojize(\"Введите ваши фамилию, имя и отчество: :magnifying_glass_tilted_left:\"))\n",
        "    base = \"\"\n",
        "\n",
        "# Обработка входящего текста\n",
        "@bot.message_handler(func=lambda message: ['test'])\n",
        "def next_message(message):\n",
        "    # Считываем таблицу\n",
        "    base = pd.read_excel(\"C:/Users/50AdmNsk/PycharmProjects/Chat-bot-reservists/testBase.xlsx\")\n",
        "    del (base['Unnamed: 0'])\n",
        "    # Если пользователь зарегистрировался и внес иформацию о своей группе, то\n",
        "    if message.chat.id in base['ID'].unique() and len(str(list(base[base['ID'] == message.chat.id]['Группа'])))-4 > 3:\n",
        "        bot.send_message(message.chat.id, emoji.emojize(\n",
        "                \"Увы! :weary_face: Извините! Я еще плохо умею общаться \t:woman_facepalming:\"))\n",
        "    # Если пользователь еще не зарегистрирован, то\n",
        "    else:\n",
        "        sleep(1)\n",
        "        # Проверяем, зарегистрировал ли человек имя и, если да, то определяем, где его строчка в таблице\n",
        "        base = pd.read_excel(\"C:/Users/50AdmNsk/PycharmProjects/Chat-bot-reservists/testBase.xlsx\")\n",
        "        del (base['Unnamed: 0'])\n",
        "        for i in range(0, len(base)):\n",
        "            if len(str(base['ID'][i])) > 3:\n",
        "                if str(message.chat.id) == str(int(base['ID'][i])):\n",
        "                    idM = i\n",
        "                    if len(str(base['Группа'][idM])) == 3 and len(str(base['Участники курса'][idM])) > 3:\n",
        "                        # Дозаписываем данные и сохраняем таблицу\n",
        "                        group = message.text\n",
        "                        base['Группа'][idM] = group\n",
        "                        # base.loc[:, ('Группа',idM) ] = group\n",
        "\n",
        "                        base.to_excel(\"C:/Users/50AdmNsk/PycharmProjects/Chat-bot-reservists/testBase.xlsx\")\n",
        "                        bot.send_message(message.chat.id, 'Отлично! Давайте приступим к работе!')\n",
        "                        bot.send_message(message.chat.id,\n",
        "                                         'Для начала, необходимо ознакомиться с некоторыми правилами. \\n У вас есть несколько учебных блоков, '\n",
        "                                         'к каждому из которых есть обязательное задание. Блок состоит из обучающего видео, проверочного теста и домашнего задания. \\n '\n",
        "                                         'Выполняйте все задания в срок! \\n Иногда вам будут приходить напоминания, что пора приступить к работе и сообщения от преподавателя. Если вы захотите '\n",
        "                                         'перезагрузить домашнюю работу - воспользуйтесть тегом /jobreload. Если вы захотите оставить рефлексию - воспользуйтесь тегом /reflection. \\n'\n",
        "                                         'Желаю успешной учебы!')\n",
        "                # else: idM=0\n",
        "            else: idM=0\n",
        "        # Если пользователь ввел имя и группу, то\n",
        "\n",
        "\n",
        "        # Если пользователь ввел имя, но не ввел группу, то\n",
        "        if idM==0:\n",
        "            # Дозаписываем данные и сохраняем таблицу\n",
        "            name = message.text\n",
        "            base = base.append({\"Участники курса\": name, \"ID\": message.chat.id}, ignore_index=True)\n",
        "            # base = appendDictToDF(base, {\"Участники курса\": name, \"ID\": message.chat.id})\n",
        "            base.to_excel(\"C:/Users/50AdmNsk/PycharmProjects/Chat-bot-reservists/testBase.xlsx\")\n",
        "            # Создаем кнопки\n",
        "            markup = telebot.types.InlineKeyboardMarkup()\n",
        "            markup.add(telebot.types.InlineKeyboardButton(text='Преподаватель', callback_data='but1'))\n",
        "            markup.add(telebot.types.InlineKeyboardButton(text='Ученик', callback_data='but2'))\n",
        "            bot.send_message(message.chat.id, text=f\"Выберите вашу роль: \", reply_markup=markup)\n",
        "\n",
        "    base = \"\"\n",
        "\n",
        "# Обработка кнопок\n",
        "@bot.callback_query_handler(func=lambda call: True)\n",
        "def callback_query(call):\n",
        "    req = call.data.split('_')\n",
        "    # Считываем таблицу\n",
        "    base = pd.read_excel(\"C:/Users/50AdmNsk/PycharmProjects/Chat-bot-reservists/testBase.xlsx\")\n",
        "    del (base['Unnamed: 0'])\n",
        "    # Если выбранная группа - ученик, то\n",
        "    if req[0] == 'but2':\n",
        "        bot.send_message(call.message.chat.id, 'Введите вашу группу:')\n",
        "    # Если нажата кнопка прохождения теста\n",
        "    elif req[0] == 'testr':\n",
        "        # Ищем человека в базе и, в его строку, вносим пометку о просмотре видео\n",
        "        for i in range(1, len(base)):\n",
        "            if call.message.chat.id == base['ID'][i]:\n",
        "                base['Отметка о просмотре'][i] = 'Пройдено'\n",
        "        base.to_excel(\"C:/Users/50AdmNsk/PycharmProjects/Chat-bot-reservists/testBase.xlsx\")\n",
        "        bot.send_message(call.message.chat.id, 'Тестик')\n",
        "\n",
        "    # Если выбранная группа - преподаватель, то\n",
        "    else:\n",
        "        base['Группа'][base.index[-1]] = 'Преподаватель'\n",
        "        base.to_excel(\"C:/Users/50AdmNsk/PycharmProjects/Chat-bot-reservists/testBase.xlsx\")\n",
        "        bot.send_message(call.message.chat.id, 'Отлично! Давайте приступим к работе!')\n",
        "        bot.send_message(call.message.chat.id, 'По мере прохождения учебного блока, я буду писать вам о том, кто из учеников уже ознакомился с видео, кто и на какой балл прошел тест,'\n",
        "                                               'пересылать домашнее задание учеников. В любое время вы можете написать мне, и я передам сообщение всем ученикам персонально. '\n",
        "                                               'Для этого воспользуйтесь тегом /message Укажате номер группы, которой нужно отправить сообщение, и текст сообщения. \\n '\n",
        "                                               'Желаю плодотворной работы!')\n",
        "    base = \"\"\n",
        "\n"
      ],
      "metadata": {
        "id": "JoKH_bKZpOM7"
      },
      "execution_count": null,
      "outputs": []
    },
    {
      "cell_type": "code",
      "source": [],
      "metadata": {
        "id": "DxOkAXrFPhnB"
      },
      "execution_count": null,
      "outputs": []
    },
    {
      "cell_type": "code",
      "source": [],
      "metadata": {
        "id": "V8bO5DLrPhpe"
      },
      "execution_count": null,
      "outputs": []
    },
    {
      "cell_type": "code",
      "source": [],
      "metadata": {
        "id": "F2AZhlMsPhsg"
      },
      "execution_count": null,
      "outputs": []
    },
    {
      "cell_type": "code",
      "source": [],
      "metadata": {
        "id": "zGD3By44Phxf"
      },
      "execution_count": null,
      "outputs": []
    },
    {
      "cell_type": "code",
      "source": [],
      "metadata": {
        "id": "XGemHm6fPh6h"
      },
      "execution_count": null,
      "outputs": []
    },
    {
      "cell_type": "code",
      "source": [],
      "metadata": {
        "id": "7NjKDPC1R9Ps"
      },
      "execution_count": null,
      "outputs": []
    },
    {
      "cell_type": "code",
      "source": [],
      "metadata": {
        "id": "64bkOFCXR9SC"
      },
      "execution_count": null,
      "outputs": []
    },
    {
      "cell_type": "code",
      "source": [],
      "metadata": {
        "id": "OItsaeXmR9Us"
      },
      "execution_count": null,
      "outputs": []
    },
    {
      "cell_type": "code",
      "source": [],
      "metadata": {
        "id": "3kP_YYRNR9XP"
      },
      "execution_count": null,
      "outputs": []
    },
    {
      "cell_type": "code",
      "source": [],
      "metadata": {
        "id": "HCWcffusR9aQ"
      },
      "execution_count": null,
      "outputs": []
    },
    {
      "cell_type": "code",
      "source": [],
      "metadata": {
        "id": "RZ5C-CxRR9ci"
      },
      "execution_count": null,
      "outputs": []
    },
    {
      "cell_type": "code",
      "source": [],
      "metadata": {
        "id": "-09ITsEsR9f9"
      },
      "execution_count": null,
      "outputs": []
    },
    {
      "cell_type": "code",
      "source": [],
      "metadata": {
        "id": "x-Ax4cHyPh81"
      },
      "execution_count": null,
      "outputs": []
    },
    {
      "cell_type": "code",
      "source": [],
      "metadata": {
        "id": "1M4iuKu5Ph_K"
      },
      "execution_count": null,
      "outputs": []
    },
    {
      "cell_type": "code",
      "source": [],
      "metadata": {
        "id": "VP33q90NPiBe"
      },
      "execution_count": null,
      "outputs": []
    },
    {
      "cell_type": "code",
      "source": [],
      "metadata": {
        "id": "PwMDUmUcPiDx"
      },
      "execution_count": null,
      "outputs": []
    },
    {
      "cell_type": "code",
      "source": [],
      "metadata": {
        "id": "XvFAiLc3PiF_"
      },
      "execution_count": null,
      "outputs": []
    },
    {
      "cell_type": "code",
      "source": [
        "\n",
        "if __name__ == '__main__':\n",
        "    ScheduleMessage.start_process()\n",
        "    process = Process(target=next_message)\n",
        "    process.start()\n",
        "    process.join()\n",
        "    bot.polling(none_stop=True)"
      ],
      "metadata": {
        "id": "p1BqUU-qPiJX"
      },
      "execution_count": null,
      "outputs": []
    }
  ]
}